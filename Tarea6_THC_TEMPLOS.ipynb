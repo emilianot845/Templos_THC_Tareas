{
  "nbformat": 4,
  "nbformat_minor": 0,
  "metadata": {
    "colab": {
      "provenance": [],
      "authorship_tag": "ABX9TyP+VLDvZW1BnGfPR4auB3vw",
      "include_colab_link": true
    },
    "kernelspec": {
      "name": "python3",
      "display_name": "Python 3"
    },
    "language_info": {
      "name": "python"
    }
  },
  "cells": [
    {
      "cell_type": "markdown",
      "metadata": {
        "id": "view-in-github",
        "colab_type": "text"
      },
      "source": [
        "<a href=\"https://colab.research.google.com/github/emilianot845/Templos_THC_Tareas/blob/main/Tarea6_THC_TEMPLOS.ipynb\" target=\"_parent\"><img src=\"https://colab.research.google.com/assets/colab-badge.svg\" alt=\"Open In Colab\"/></a>"
      ]
    },
    {
      "cell_type": "code",
      "execution_count": 14,
      "metadata": {
        "colab": {
          "base_uri": "https://localhost:8080/"
        },
        "id": "ejHeaK3OZFSa",
        "outputId": "cf4019c6-b2cb-451a-fc39-e65c2839b2bd"
      },
      "outputs": [
        {
          "output_type": "stream",
          "name": "stdout",
          "text": [
            "Valores primer vector:\n",
            "Hay que poner los valores de los vectores con espacio entre cada uno:  1 2 8\n",
            "Valores vector dos:\n",
            "Hay que poner los valores de los vectores con espacio entre cada uno: 4 6 7\n",
            "El producto de los vectores es : [4.0, 12.0, 56.0]\n",
            "El producto escalar de los vectores es : 72.0\n",
            "Elevamos el vector uno al cubo: [1.0, 8.0, 512.0]\n",
            "Elevamos el vector dos al cubo: [64.0, 216.0, 343.0]\n"
          ]
        }
      ],
      "source": [
        "\"\"\" Tarea#6: Operaciones entre vectores\n",
        "Templos Valdez Juan Emiliano \"\"\"\n",
        "\n",
        "\n",
        "def valores_vec():\n",
        "    vector_sp = input(\"Hay que poner los valores de los vectores con espacio entre cada uno: \")\n",
        "    vec= [float(x) for x in vector_sp.split()]\n",
        "    return vec\n",
        "\n",
        "# Función para calcular el producto esos vectores que definimos previamente\n",
        "def prod_vect(vec1, vec2):\n",
        "    if len(vec1) != len(vec2):\n",
        "        return None\n",
        "    producto = [vec1[i] * vec2[i] for i in range(len(vec1))]\n",
        "    return producto\n",
        "\n",
        "# Función para la potencia n\n",
        "def pot_vec(v, n):\n",
        "    return [x**n for x in v]\n",
        "\n",
        "# Por ultimo definimos la funcion para el producto escalar de esos vectores\n",
        "def prod_esc(vec1, vec2):\n",
        "    if len(vec1) != len(vec2):\n",
        "        return None\n",
        "    producto = sum(vec1[i] * vec2[i] for i in range(len(vec1)))\n",
        "    return producto\n",
        "\n",
        "print(\"Valores primer vector:\")\n",
        "vec1 = valores_vec()\n",
        "print(\"Valores vector dos:\")\n",
        "vec2 = valores_vec()\n",
        "\n",
        "producto = producto_vectorial(vec1, vec2)\n",
        "print(\"El producto de los vectores es :\", producto)\n",
        "\n",
        "escalar = prod_esc(vec1, vec2)\n",
        "print(\"El producto escalar de los vectores es :\", escalar)\n",
        "\n",
        "pot_vec1 = pot_vec(vec1, 3)\n",
        "pot_vec2 = pot_vec(vec2, 3)\n",
        "print(\"Elevamos el vector uno al cubo:\", pot_vec1)\n",
        "print(\"Elevamos el vector dos al cubo:\", pot_vec2)\n"
      ]
    }
  ]
}