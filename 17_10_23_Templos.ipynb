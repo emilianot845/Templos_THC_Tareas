{
  "nbformat": 4,
  "nbformat_minor": 0,
  "metadata": {
    "colab": {
      "provenance": [],
      "authorship_tag": "ABX9TyPHZbQ4lHuXEcC+o8/aMUlU",
      "include_colab_link": true
    },
    "kernelspec": {
      "name": "python3",
      "display_name": "Python 3"
    },
    "language_info": {
      "name": "python"
    }
  },
  "cells": [
    {
      "cell_type": "markdown",
      "metadata": {
        "id": "view-in-github",
        "colab_type": "text"
      },
      "source": [
        "<a href=\"https://colab.research.google.com/github/emilianot845/Templos_THC_Tareas/blob/main/17_10_23_Templos.ipynb\" target=\"_parent\"><img src=\"https://colab.research.google.com/assets/colab-badge.svg\" alt=\"Open In Colab\"/></a>"
      ]
    },
    {
      "cell_type": "code",
      "execution_count": 2,
      "metadata": {
        "colab": {
          "base_uri": "https://localhost:8080/"
        },
        "id": "XGlBi2JBwwYY",
        "outputId": "53e2d47f-6f74-4b7e-cc02-e2f88a7b2237"
      },
      "outputs": [
        {
          "output_type": "stream",
          "name": "stdout",
          "text": [
            "4.242640687119285\n"
          ]
        }
      ],
      "source": [
        "#Distancia ente dos puntos (ingresar como tuplas)\n",
        "import math\n",
        "p=[1,6]\n",
        "q=[4,3]\n",
        "print(math.dist(p,q))"
      ]
    },
    {
      "cell_type": "code",
      "source": [
        "#Aleatoriedad de numeros con la biblioteca random\n",
        "import random\n",
        "\"\"\"La semilla (seed) sirve para fijar una base donde los numeros generen una misma sucesion\"\"\"\n",
        "random.seed(5)\n",
        "print(random.random())"
      ],
      "metadata": {
        "colab": {
          "base_uri": "https://localhost:8080/"
        },
        "id": "OGxXKUzJyjUF",
        "outputId": "6df8ed98-daec-47e3-8e13-09b0cd187842"
      },
      "execution_count": 4,
      "outputs": [
        {
          "output_type": "stream",
          "name": "stdout",
          "text": [
            "0.6229016948897019\n"
          ]
        }
      ]
    },
    {
      "cell_type": "code",
      "source": [
        "#\n",
        "import random\n",
        "\n",
        "print(random.randint(1, 10))"
      ],
      "metadata": {
        "colab": {
          "base_uri": "https://localhost:8080/"
        },
        "id": "by9lvBa40jBM",
        "outputId": "0e817216-4bce-46b9-9fc9-93c846fe5936"
      },
      "execution_count": 6,
      "outputs": [
        {
          "output_type": "stream",
          "name": "stdout",
          "text": [
            "6\n"
          ]
        }
      ]
    },
    {
      "cell_type": "code",
      "source": [
        "import random\n",
        "\n",
        "Ganador_NFC = [\"Philadelphia\", \"San Francisco\", \"Dallas\"]\n",
        "\n",
        "print(random.choice(Ganador_NFC))"
      ],
      "metadata": {
        "colab": {
          "base_uri": "https://localhost:8080/"
        },
        "id": "CXb1PF8F1GNv",
        "outputId": "96e8fe31-2b8e-4f5c-de2b-9d9b160390a2"
      },
      "execution_count": 8,
      "outputs": [
        {
          "output_type": "stream",
          "name": "stdout",
          "text": [
            "Dallas\n"
          ]
        }
      ]
    },
    {
      "cell_type": "code",
      "source": [
        "#SUMA DE MATRICES\n",
        "A=[[1,2,3],[4,5,6],[7,8,9]]\n",
        "B=[[8,5,1],[6,3,7],[4,1,4]]\n",
        "for i in range (len(A)):\n",
        "  print(A[2][i])"
      ],
      "metadata": {
        "colab": {
          "base_uri": "https://localhost:8080/"
        },
        "id": "SKaDv-MS1yEk",
        "outputId": "213c3fbd-5108-4994-aef8-0a5cad0e57f0"
      },
      "execution_count": 15,
      "outputs": [
        {
          "output_type": "stream",
          "name": "stdout",
          "text": [
            "7\n",
            "8\n",
            "9\n"
          ]
        }
      ]
    },
    {
      "cell_type": "code",
      "source": [
        "A=[[1,2,3],[4,5,6],[7,8,9]]\n",
        "B=[[8,5,1],[6,3,7],[4,1,4]]\n",
        "for i in range (len(A)):\n",
        "  print(A[i][1])\n"
      ],
      "metadata": {
        "colab": {
          "base_uri": "https://localhost:8080/"
        },
        "id": "Qowv9dF95nqa",
        "outputId": "263d0272-fabd-4c3e-f6bc-fa55da382510"
      },
      "execution_count": 17,
      "outputs": [
        {
          "output_type": "stream",
          "name": "stdout",
          "text": [
            "2\n",
            "5\n",
            "8\n"
          ]
        }
      ]
    },
    {
      "cell_type": "code",
      "source": [
        "A=[[1,2,3],[4,5,6],[7,8,9]]\n",
        "B=[[8,5,1],[6,3,7],[4,1,4]]\n",
        "for i in range (len(A)):\n",
        "   for j in range(len(A)):\n",
        "     print(A[i][j])\n"
      ],
      "metadata": {
        "colab": {
          "base_uri": "https://localhost:8080/"
        },
        "id": "5q4yFHBN59-2",
        "outputId": "43df0bdb-b99c-40cd-c0f5-b9bb5b0f809d"
      },
      "execution_count": 29,
      "outputs": [
        {
          "output_type": "stream",
          "name": "stdout",
          "text": [
            "1\n",
            "2\n",
            "3\n",
            "4\n",
            "5\n",
            "6\n",
            "7\n",
            "8\n",
            "9\n"
          ]
        }
      ]
    },
    {
      "cell_type": "code",
      "source": [
        "A=[[1,2,3],[4,5,6],[7,8,9]]\n",
        "B=[[8,5,1],[6,3,7],[4,1,4]]\n",
        "for i in range (len(A)):\n",
        "   for j in range(len(A)):\n",
        "     print(A[j][i])"
      ],
      "metadata": {
        "colab": {
          "base_uri": "https://localhost:8080/"
        },
        "id": "4qqw9ThW8jvU",
        "outputId": "fd5b69d7-494e-4e0c-9adf-32e584ae037a"
      },
      "execution_count": 30,
      "outputs": [
        {
          "output_type": "stream",
          "name": "stdout",
          "text": [
            "1\n",
            "4\n",
            "7\n",
            "2\n",
            "5\n",
            "8\n",
            "3\n",
            "6\n",
            "9\n"
          ]
        }
      ]
    },
    {
      "cell_type": "code",
      "source": [
        "A=[[1,2,3],[4,5,6],[7,8,9]]\n",
        "B=[[10,11,12],[13,14,15],[16,17,18]]\n",
        "for i in range (len(A)):\n",
        "   for j in range(len(A)):\n",
        "     print(A[j][i]+B[j][i])"
      ],
      "metadata": {
        "colab": {
          "base_uri": "https://localhost:8080/"
        },
        "id": "7k8uv_8a_oNz",
        "outputId": "5c71cfd7-6463-406d-8720-770d8dc505ca"
      },
      "execution_count": 31,
      "outputs": [
        {
          "output_type": "stream",
          "name": "stdout",
          "text": [
            "11\n",
            "17\n",
            "23\n",
            "13\n",
            "19\n",
            "25\n",
            "15\n",
            "21\n",
            "27\n"
          ]
        }
      ]
    },
    {
      "cell_type": "code",
      "source": [
        "l=[5,4,3,2,1]\n",
        "n=len(l)\n",
        "for i in range(n-1):\n",
        "  if l[i]>l[i+1]:\n",
        "    print(l)\n",
        "    aux=l[i+1]\n",
        "    l[i+1]=l[i]\n",
        "    l[i]=aux\n",
        "    print(l)"
      ],
      "metadata": {
        "colab": {
          "base_uri": "https://localhost:8080/"
        },
        "id": "bCQH83J_Eurk",
        "outputId": "6866f8c8-d0f6-46e9-eda1-476494984196"
      },
      "execution_count": 34,
      "outputs": [
        {
          "output_type": "stream",
          "name": "stdout",
          "text": [
            "[5, 4, 3, 2, 1]\n",
            "[4, 5, 3, 2, 1]\n",
            "[4, 5, 3, 2, 1]\n",
            "[4, 3, 5, 2, 1]\n",
            "[4, 3, 5, 2, 1]\n",
            "[4, 3, 2, 5, 1]\n",
            "[4, 3, 2, 5, 1]\n",
            "[4, 3, 2, 1, 5]\n"
          ]
        }
      ]
    },
    {
      "cell_type": "code",
      "source": [],
      "metadata": {
        "id": "n4NkMZnF_MFI"
      },
      "execution_count": null,
      "outputs": []
    },
    {
      "cell_type": "code",
      "source": [],
      "metadata": {
        "id": "mi-qugTS0baG"
      },
      "execution_count": null,
      "outputs": []
    }
  ]
}