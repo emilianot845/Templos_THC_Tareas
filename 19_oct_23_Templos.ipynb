{
  "nbformat": 4,
  "nbformat_minor": 0,
  "metadata": {
    "colab": {
      "provenance": [],
      "authorship_tag": "ABX9TyOOqieJh4XZ2Z1sBGWkzQc4",
      "include_colab_link": true
    },
    "kernelspec": {
      "name": "python3",
      "display_name": "Python 3"
    },
    "language_info": {
      "name": "python"
    }
  },
  "cells": [
    {
      "cell_type": "markdown",
      "metadata": {
        "id": "view-in-github",
        "colab_type": "text"
      },
      "source": [
        "<a href=\"https://colab.research.google.com/github/emilianot845/Templos_THC_Tareas/blob/main/19_oct_23_Templos.ipynb\" target=\"_parent\"><img src=\"https://colab.research.google.com/assets/colab-badge.svg\" alt=\"Open In Colab\"/></a>"
      ]
    },
    {
      "cell_type": "code",
      "execution_count": 2,
      "metadata": {
        "colab": {
          "base_uri": "https://localhost:8080/"
        },
        "id": "zBVJHCRWD7c2",
        "outputId": "bf7dddb1-9c06-4af0-ea23-06a4fac5646f"
      },
      "outputs": [
        {
          "output_type": "stream",
          "name": "stdout",
          "text": [
            "[16 12  1  2  4]\n",
            "<class 'numpy.ndarray'>\n"
          ]
        }
      ],
      "source": [
        "import numpy as lol\n",
        "lista= lol.array([16,12,1,2,4])\n",
        "print(lista)\n",
        "print(type(lista))"
      ]
    },
    {
      "cell_type": "code",
      "source": [
        "Numero= lol.array(17)\n",
        "print(Numero)"
      ],
      "metadata": {
        "colab": {
          "base_uri": "https://localhost:8080/"
        },
        "id": "7pzn3ynrE1vF",
        "outputId": "834c271a-164a-47bd-91e8-32855aa712d2"
      },
      "execution_count": 3,
      "outputs": [
        {
          "output_type": "stream",
          "name": "stdout",
          "text": [
            "17\n"
          ]
        }
      ]
    },
    {
      "cell_type": "code",
      "source": [
        "#Las dimensiones se pueden ver por el numero de corchetes que hay\n",
        "Num= lol.array([[4,5,6],[8,9,7]])\n",
        "print(Num)"
      ],
      "metadata": {
        "colab": {
          "base_uri": "https://localhost:8080/"
        },
        "id": "tWCTMZsDFbU2",
        "outputId": "1e9035be-5b22-407c-93ce-ef4c298e0212"
      },
      "execution_count": 4,
      "outputs": [
        {
          "output_type": "stream",
          "name": "stdout",
          "text": [
            "[[4 5 6]\n",
            " [8 9 7]]\n"
          ]
        }
      ]
    },
    {
      "cell_type": "code",
      "source": [
        "Trid=lol.array([[[4,5,6],[8,2,3],[3,2,2]]])\n",
        "print(Trid)"
      ],
      "metadata": {
        "colab": {
          "base_uri": "https://localhost:8080/"
        },
        "id": "AaAiRHBPE0Ye",
        "outputId": "51b419f3-583d-4bf2-9cad-1fcf9398b0de"
      },
      "execution_count": 6,
      "outputs": [
        {
          "output_type": "stream",
          "name": "stdout",
          "text": [
            "[[[4 5 6]\n",
            "  [8 2 3]\n",
            "  [3 2 2]]]\n"
          ]
        }
      ]
    },
    {
      "cell_type": "code",
      "source": [
        "arr = np.array([[1,2,3,4,5], [6,7,8,9,10]])\n",
        "\n",
        "print('2do elemento de la 1er Fila: ', arr[0, 1])"
      ],
      "metadata": {
        "id": "tXGCeZPpGlgG"
      },
      "execution_count": null,
      "outputs": []
    },
    {
      "cell_type": "code",
      "source": [
        "# Con numpy\n",
        "import numpy as lol\n",
        "matriz = lol.array([[1, 2, 3],\n",
        "                  [4, 5, 6],\n",
        "                  [7, 8, 9]])\n",
        "suma = lol.sum(matriz)\n",
        "print(suma)"
      ],
      "metadata": {
        "colab": {
          "base_uri": "https://localhost:8080/"
        },
        "id": "jSVBh3fMKct0",
        "outputId": "5b800cd5-e1fe-4af2-da84-79c170172927"
      },
      "execution_count": 10,
      "outputs": [
        {
          "output_type": "stream",
          "name": "stdout",
          "text": [
            "45\n"
          ]
        }
      ]
    },
    {
      "cell_type": "code",
      "source": [],
      "metadata": {
        "id": "Qiy2MD0gNBSO"
      },
      "execution_count": null,
      "outputs": []
    },
    {
      "cell_type": "code",
      "source": [
        "# con listas :\n",
        "matriz = [[1, 2, 3],\n",
        "          [4, 5, 6],\n",
        "          [7, 8, 9]]\n",
        "suma = 0\n",
        "for fila in matriz:\n",
        "    suma += sum(fila)\n",
        "print(suma)"
      ],
      "metadata": {
        "colab": {
          "base_uri": "https://localhost:8080/"
        },
        "id": "uMvBaOkyMuJG",
        "outputId": "b5ab9c9b-da21-48f7-dcf5-2265b8002e9f"
      },
      "execution_count": 11,
      "outputs": [
        {
          "output_type": "stream",
          "name": "stdout",
          "text": [
            "45\n"
          ]
        }
      ]
    },
    {
      "cell_type": "code",
      "source": [
        "# Definir dos matrices 3x3\n",
        "matrix1 = [\n",
        "    [1, 2, 3],\n",
        "    [4, 5, 6],\n",
        "    [7, 8, 9]\n",
        "]\n",
        "matrix2 = [\n",
        "    [1, 2, 3],\n",
        "    [4, 5, 6],\n",
        "    [7, 8, 9]\n",
        "]\n",
        "# Inicializar una matriz resultado 1x3 con ceros\n",
        "result = [0, 0, 0]\n",
        "# Realizar el producto escalar por columnas\n",
        "for i in range(3):\n",
        "    for j in range(3):\n",
        "        result[i] += matrix1[j][i] * matrix2[j][i]\n",
        "# Imprimir el resultado\n",
        "print(result)"
      ],
      "metadata": {
        "colab": {
          "base_uri": "https://localhost:8080/"
        },
        "id": "ADaXSSE-M3Er",
        "outputId": "8891cbbb-141a-4563-e1bb-c3587014f80d"
      },
      "execution_count": 13,
      "outputs": [
        {
          "output_type": "stream",
          "name": "stdout",
          "text": [
            "[66, 93, 126]\n"
          ]
        }
      ]
    },
    {
      "cell_type": "code",
      "source": [
        "import numpy as np\n",
        "# Define la función ProdPunto\n",
        "def ProdPunto(arr1, arr2):\n",
        "    return np.dot(arr1, arr2)\n",
        "arr2 = np.array([[1, 1, 1], [1, 1, 1], [1, 1, 1]])\n",
        "arr3 = np.array([[1, 1, 1], [1, 1, 1], [1, 1, 1]])\n",
        "Pp_por_reng = np.array([0, 0, 0])\n",
        "Pp_por_col = np.array([0, 0, 0])\n",
        "for i in range(len(arr2)):\n",
        "    Pp_por_reng[i] = ProdPunto(arr2[i], arr3[i])\n",
        "Pp_por_reng"
      ],
      "metadata": {
        "colab": {
          "base_uri": "https://localhost:8080/"
        },
        "id": "OLjHMmrBU4t_",
        "outputId": "08ed44ea-b53a-47b2-8fb8-af446989a51f"
      },
      "execution_count": 14,
      "outputs": [
        {
          "output_type": "execute_result",
          "data": {
            "text/plain": [
              "array([3, 3, 3])"
            ]
          },
          "metadata": {},
          "execution_count": 14
        }
      ]
    }
  ]
}