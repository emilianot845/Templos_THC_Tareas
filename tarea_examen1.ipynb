{
  "nbformat": 4,
  "nbformat_minor": 0,
  "metadata": {
    "colab": {
      "provenance": [],
      "include_colab_link": true
    },
    "kernelspec": {
      "name": "python3",
      "display_name": "Python 3"
    },
    "language_info": {
      "name": "python"
    }
  },
  "cells": [
    {
      "cell_type": "markdown",
      "metadata": {
        "id": "view-in-github",
        "colab_type": "text"
      },
      "source": [
        "<a href=\"https://colab.research.google.com/github/emilianot845/Templos_THC_Tareas/blob/main/tarea_examen1.ipynb\" target=\"_parent\"><img src=\"https://colab.research.google.com/assets/colab-badge.svg\" alt=\"Open In Colab\"/></a>"
      ]
    },
    {
      "cell_type": "code",
      "source": [
        "# TAREA/EXAMEN 1\n",
        "  # Integrantes:\n",
        "    # Herrera Hernández Hector (HHH)\n",
        "    # Templos Valdez Juan Emiliano (TVJE)\n",
        "\n",
        "# TAREA/EXAMEN1.IPYNB"
      ],
      "metadata": {
        "id": "W_sp1Utbz-Xv"
      },
      "execution_count": null,
      "outputs": []
    },
    {
      "cell_type": "markdown",
      "source": [
        "1. \"Sumas de matrices rectangulares\""
      ],
      "metadata": {
        "id": "Rxpf3RMovEMC"
      }
    },
    {
      "cell_type": "code",
      "source": [
        "# Definir las matrices de entrada\n",
        "\"\"\"Enumeraremos los elementos del 1-18 en orden para dar valores a la matriz a y b\"\"\"\n",
        "mat_a = [[1, 2, 3],[4, 5, 6],[7, 8, 9]]\n",
        "\n",
        "mat_b = [[10, 11, 12],[13, 14, 15],[16, 17, 18]]\n",
        "\n",
        "mat_resul = [[0, 0, 0], [0, 0, 0], [0, 0, 0]]\n",
        "\n",
        "# Definimos la suma con la funcion for\n",
        "for i in range(len(mat_a)):\n",
        "    for j in range(len(mat_a[0])):\n",
        "        mat_resul[i][j] = mat_a[i][j] + mat_b[i][j]\n",
        "print(f\"Resultado de la matriz:{mat_resul}\")\n",
        "for renglon in mat_resul:\n",
        "    print(renglon)\n"
      ],
      "metadata": {
        "colab": {
          "base_uri": "https://localhost:8080/"
        },
        "id": "_DMuF72PvGc-",
        "outputId": "0e005432-37c3-4676-e6a9-6dd4b9d77fd8"
      },
      "execution_count": 5,
      "outputs": [
        {
          "output_type": "stream",
          "name": "stdout",
          "text": [
            "Resultado de la matriz:[[11, 13, 15], [17, 19, 21], [23, 25, 27]]\n",
            "[11, 13, 15]\n",
            "[17, 19, 21]\n",
            "[23, 25, 27]\n"
          ]
        }
      ]
    },
    {
      "cell_type": "markdown",
      "source": [
        "2. \"Multiplicación entrada a entrada rectangulares\""
      ],
      "metadata": {
        "id": "5HiRDc0pvoVC"
      }
    },
    {
      "cell_type": "code",
      "source": [
        "Entrada = [[2, 4, 6],[8, 10, 12],[3, 6, 9]]\n",
        "Salida = [[1, 2, 3],[4, 5, 6],[7, 8, 9]]\n",
        "\n",
        "Resul_Multip = [[0, 0, 0], [0, 0, 0], [0, 0, 0]]\n",
        "\n",
        "for i in range(len(Entrada)):\n",
        "    for j in range(len(Entrada[0])):\n",
        "        Resul_Multip[i][j] = Entrada[i][j] * Salida[i][j]\n",
        "print(f\"El resultado de la multiplicacion de matrices es {Resul_Multip}\")\n",
        "for renglon in Resul_Multip:\n",
        "    print(renglon)\n"
      ],
      "metadata": {
        "colab": {
          "base_uri": "https://localhost:8080/"
        },
        "id": "xzuuidcGvsr_",
        "outputId": "67f8aa69-8ec7-49a0-9ccf-b7150c47098d"
      },
      "execution_count": 4,
      "outputs": [
        {
          "output_type": "stream",
          "name": "stdout",
          "text": [
            "El resultado de la multiplicacion de matrices es [[2, 8, 18], [32, 50, 72], [21, 48, 81]]\n",
            "[2, 8, 18]\n",
            "[32, 50, 72]\n",
            "[21, 48, 81]\n"
          ]
        }
      ]
    },
    {
      "cell_type": "markdown",
      "source": [
        "3. \"La traza de una matriz\""
      ],
      "metadata": {
        "id": "NOgR_vj5wLv5"
      }
    },
    {
      "cell_type": "code",
      "source": [
        "Ent = [[4, 8, 12],[16, 20, 24],[2, 1, 2]]\n",
        "traza = 0\n",
        "for i in range(len(Ent)):\n",
        "    traza +=Ent[i][i]\n",
        "print(f\"La traza de la matriz es:\", traza)\n"
      ],
      "metadata": {
        "colab": {
          "base_uri": "https://localhost:8080/"
        },
        "id": "W93ANpOEwOGa",
        "outputId": "61bc3a3b-2a4a-4b29-fd26-0fb00cd73896"
      },
      "execution_count": 10,
      "outputs": [
        {
          "output_type": "stream",
          "name": "stdout",
          "text": [
            "La traza de la matriz es: 26\n"
          ]
        }
      ]
    },
    {
      "cell_type": "markdown",
      "source": [
        "4. \"La transpuesta de una matriz\"."
      ],
      "metadata": {
        "id": "8nACnOH1w9rj"
      }
    },
    {
      "cell_type": "code",
      "source": [
        "A= [[1, 2, 3],[4, 5, 6],[7, 8, 9]]\n",
        "transp= [[0, 0, 0], [0, 0, 0], [0, 0, 0]]\n",
        "for i in range(len(A)):\n",
        "    for j in range(len(A[0])):\n",
        "        transp[j][i] = A[i][j]\n",
        "print(f\"Matriz Transpuesta:{transp} \")\n",
        "for fila in transp:\n",
        "    print(fila)\n"
      ],
      "metadata": {
        "colab": {
          "base_uri": "https://localhost:8080/"
        },
        "id": "RYNJ5hQMw_AP",
        "outputId": "bc888c7a-1703-49d9-9de8-5a7c92d945c9"
      },
      "execution_count": 11,
      "outputs": [
        {
          "output_type": "stream",
          "name": "stdout",
          "text": [
            "Matriz Transpuesta:[[1, 4, 7], [2, 5, 8], [3, 6, 9]] \n",
            "[1, 4, 7]\n",
            "[2, 5, 8]\n",
            "[3, 6, 9]\n"
          ]
        }
      ]
    },
    {
      "cell_type": "markdown",
      "source": [
        "5. El máximo y mínimo elemento en una matriz."
      ],
      "metadata": {
        "id": "MJjIbOgvxmHp"
      }
    },
    {
      "cell_type": "code",
      "source": [
        "A_2 = [[7, 3, 1],[8, 4, 12],[9, 13, 1]]\n",
        "max_A= A[0][0]\n",
        "min_A = A[0][0]\n",
        "for ren in A:\n",
        "    for x in ren:\n",
        "        if x > max_A:\n",
        "            max_A = x\n",
        "        elif x < min_A:\n",
        "            min_A = x\n",
        "print(\"Maximo de la matriz:\", max_A)\n",
        "print(\"Minimo de la matriz:\", min_A)\n"
      ],
      "metadata": {
        "colab": {
          "base_uri": "https://localhost:8080/"
        },
        "id": "35gkd6VUxm5m",
        "outputId": "abc2d869-722b-4827-cd29-54319f930dac"
      },
      "execution_count": 12,
      "outputs": [
        {
          "output_type": "stream",
          "name": "stdout",
          "text": [
            "Maximo de la matriz: 9\n",
            "Minimo de la matriz: 1\n"
          ]
        }
      ]
    },
    {
      "cell_type": "markdown",
      "source": [
        "6. La suma del cuadrado de los elementos de una matriz."
      ],
      "metadata": {
        "id": "XEFXzKVHyGGl"
      }
    },
    {
      "cell_type": "code",
      "source": [
        "Inicio = [[3, 6, 9],[12, 15, 18],[1,2,3]]\n",
        "suma_2 = 0\n",
        "for i in range(len(Inicio)):\n",
        "    for j in range(len(Inicio[0])):\n",
        "        suma_2 += Inicio[i][j] ** 2\n",
        "print(\"La suma de los cuadrados de los elementos de la matriz es:\", suma_2)\n"
      ],
      "metadata": {
        "colab": {
          "base_uri": "https://localhost:8080/"
        },
        "id": "2cVBwIKRyHDd",
        "outputId": "90e8dd47-67b2-4548-af04-4a111fec419f"
      },
      "execution_count": 13,
      "outputs": [
        {
          "output_type": "stream",
          "name": "stdout",
          "text": [
            "La suma de los cuadrados de los elementos de la matriz es: 833\n"
          ]
        }
      ]
    },
    {
      "cell_type": "markdown",
      "source": [
        "7. La potencia de matrices."
      ],
      "metadata": {
        "id": "twDrE-Zayxez"
      }
    },
    {
      "cell_type": "code",
      "source": [
        "A_3= [[7, 8, 9],[1, 2, 3],[4, 8, 12]]\n",
        "# Utilizaremos el ejemplo con n=4\n",
        "n = 4\n",
        "Result_pot= [[x ** n for x in ren] for ren in A_3]\n",
        "print(\"Resultado de la potencia:\")\n",
        "for ren in Result_pot:\n",
        "    print(ren)\n"
      ],
      "metadata": {
        "colab": {
          "base_uri": "https://localhost:8080/"
        },
        "id": "Tl3hUZzozwNr",
        "outputId": "b315e608-18e9-4696-c4f8-f4536d98798f"
      },
      "execution_count": 14,
      "outputs": [
        {
          "output_type": "stream",
          "name": "stdout",
          "text": [
            "Resultado de la potencia:\n",
            "[2401, 4096, 6561]\n",
            "[1, 16, 81]\n",
            "[256, 4096, 20736]\n"
          ]
        }
      ]
    }
  ]
}