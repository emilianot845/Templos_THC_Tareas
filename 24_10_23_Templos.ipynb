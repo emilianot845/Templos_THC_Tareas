{
  "nbformat": 4,
  "nbformat_minor": 0,
  "metadata": {
    "colab": {
      "provenance": [],
      "authorship_tag": "ABX9TyPoGvPsvZNi9Lyh67RKzGP/",
      "include_colab_link": true
    },
    "kernelspec": {
      "name": "python3",
      "display_name": "Python 3"
    },
    "language_info": {
      "name": "python"
    }
  },
  "cells": [
    {
      "cell_type": "markdown",
      "metadata": {
        "id": "view-in-github",
        "colab_type": "text"
      },
      "source": [
        "<a href=\"https://colab.research.google.com/github/emilianot845/Templos_THC_Tareas/blob/main/24_10_23_Templos.ipynb\" target=\"_parent\"><img src=\"https://colab.research.google.com/assets/colab-badge.svg\" alt=\"Open In Colab\"/></a>"
      ]
    },
    {
      "cell_type": "code",
      "execution_count": 8,
      "metadata": {
        "colab": {
          "base_uri": "https://localhost:8080/"
        },
        "id": "5wrIhH2d0ani",
        "outputId": "02296686-7c22-4217-fa38-5f754b82d9a4"
      },
      "outputs": [
        {
          "output_type": "stream",
          "name": "stdout",
          "text": [
            "[ 2  4  6  8 10]\n"
          ]
        }
      ],
      "source": [
        "import numpy as sp\n",
        "lol= sp.array([2,4,6,8,10])\n",
        "print(lol[0:])"
      ]
    },
    {
      "cell_type": "code",
      "source": [
        "import numpy as sp\n",
        "lol= sp.array([2,4,6,8,10])\n",
        "print(lol[1])"
      ],
      "metadata": {
        "colab": {
          "base_uri": "https://localhost:8080/"
        },
        "id": "HIF-_OiL2uZB",
        "outputId": "f45f6dc3-6899-4589-9cd0-4a780c3ef888"
      },
      "execution_count": 17,
      "outputs": [
        {
          "output_type": "stream",
          "name": "stdout",
          "text": [
            "4\n"
          ]
        }
      ]
    },
    {
      "cell_type": "code",
      "source": [
        "import numpy as sp\n",
        "lol= sp.array([1,3,2,5,7,10,14,6,2])\n",
        "print(lol[0:6:2])"
      ],
      "metadata": {
        "colab": {
          "base_uri": "https://localhost:8080/"
        },
        "id": "-i3p6q8X3RiZ",
        "outputId": "b892c320-ad62-44e0-c192-53116bf8836e"
      },
      "execution_count": 18,
      "outputs": [
        {
          "output_type": "stream",
          "name": "stdout",
          "text": [
            "[1 2 7]\n"
          ]
        }
      ]
    },
    {
      "cell_type": "code",
      "source": [
        "import numpy as sp\n",
        "lol= sp.array([1,3,2,5,7,10,14,6,2])\n",
        "print(lol[::1])\n",
        "\"\"\"Aqui el salto va de uno en uno, por lo que en realidad da todos los elementos de la lista en orden\"\"\""
      ],
      "metadata": {
        "colab": {
          "base_uri": "https://localhost:8080/"
        },
        "id": "Ra6AXLo34CaS",
        "outputId": "ba98924f-3910-4710-b467-8b07b9d42b56"
      },
      "execution_count": 19,
      "outputs": [
        {
          "output_type": "stream",
          "name": "stdout",
          "text": [
            "[ 1  3  2  5  7 10 14  6  2]\n"
          ]
        }
      ]
    },
    {
      "cell_type": "code",
      "source": [
        "#Ahora lo haremos con matrices\n",
        "import numpy as sp\n",
        "jaja= sp.array([[1,3,2,5,7,10],[1,2,3,4,5,6]])\n",
        "print(jaja[0, 0:5:2])"
      ],
      "metadata": {
        "colab": {
          "base_uri": "https://localhost:8080/"
        },
        "id": "R4ilfXB84Wrx",
        "outputId": "25c2f12c-5694-40f2-b187-e1fc779c4c33"
      },
      "execution_count": 22,
      "outputs": [
        {
          "output_type": "stream",
          "name": "stdout",
          "text": [
            "[1 2 7]\n"
          ]
        }
      ]
    },
    {
      "cell_type": "code",
      "source": [
        "\n",
        "import numpy as sp\n",
        "jaja= sp.array([[1,3,2,5,7,10],[1,2,3,4,5,6]])\n",
        "print(jaja[0, :])"
      ],
      "metadata": {
        "colab": {
          "base_uri": "https://localhost:8080/"
        },
        "id": "RJLKZodd6FSY",
        "outputId": "a2ada91d-2619-436c-dfba-f7374364063f"
      },
      "execution_count": 23,
      "outputs": [
        {
          "output_type": "stream",
          "name": "stdout",
          "text": [
            "[ 1  3  2  5  7 10]\n"
          ]
        }
      ]
    },
    {
      "cell_type": "code",
      "source": [
        "\n",
        "import numpy as sp\n",
        "jaja= sp.array([[1,3,2,5,7,10],[1,2,3,4,5,6]])\n",
        "print(jaja[0:2, 2])"
      ],
      "metadata": {
        "colab": {
          "base_uri": "https://localhost:8080/"
        },
        "id": "dqpdhaIs6lND",
        "outputId": "81ed8906-6a3b-4d80-8a68-77b1ec28d6f2"
      },
      "execution_count": 24,
      "outputs": [
        {
          "output_type": "stream",
          "name": "stdout",
          "text": [
            "[2 3]\n"
          ]
        }
      ]
    },
    {
      "cell_type": "code",
      "source": [
        "#Recordar que python empieza desde el 0, si el indice marca 0:5, en realidad va desde el 0 al 1,2,3,4\n",
        "import numpy as sp\n",
        "jaja= sp.array([[1,3,2,5,7,10],[1,2,3,4,5,6]])\n",
        "print(jaja[0:2, 1:4])"
      ],
      "metadata": {
        "colab": {
          "base_uri": "https://localhost:8080/"
        },
        "id": "Lzd8rvXl4RYK",
        "outputId": "5b293fab-4635-43ae-cafe-899532a3e7d2"
      },
      "execution_count": 28,
      "outputs": [
        {
          "output_type": "stream",
          "name": "stdout",
          "text": [
            "[[3 2 5]\n",
            " [2 3 4]]\n"
          ]
        }
      ]
    },
    {
      "cell_type": "code",
      "source": [
        "#Arreglos ahora para indices, no para sacar elementos\n",
        "import numpy as ind\n",
        "XD=ind.array([1,2,6,2,7,10,2,9,15,2])\n",
        "Holi= ind.where(XD == 2)\n",
        "print(Holi)"
      ],
      "metadata": {
        "colab": {
          "base_uri": "https://localhost:8080/"
        },
        "id": "j0wq0V1V92wX",
        "outputId": "6b0ac5ab-2dde-4fb7-e929-36df2d692c18"
      },
      "execution_count": 31,
      "outputs": [
        {
          "output_type": "stream",
          "name": "stdout",
          "text": [
            "(array([1, 3, 6, 9]),)\n"
          ]
        }
      ]
    },
    {
      "cell_type": "code",
      "source": [
        "import numpy as xp\n",
        "x=xp.array([1,2,3])\n",
        "y=xp.array([4,5,6])\n",
        "suma=x+y\n",
        "print(f\"La suma de las matrices es {suma}\")"
      ],
      "metadata": {
        "colab": {
          "base_uri": "https://localhost:8080/"
        },
        "id": "SKjkvSp8_gp6",
        "outputId": "60b8e8c0-4070-4781-9b91-f4eb44c0dd5c"
      },
      "execution_count": 35,
      "outputs": [
        {
          "output_type": "stream",
          "name": "stdout",
          "text": [
            "La suma de ambas listas es [5 7 9]\n"
          ]
        }
      ]
    },
    {
      "cell_type": "code",
      "source": [
        "import numpy as xp\n",
        "x=xp.array([4,3,7])\n",
        "y=xp.array([8,4,3])\n",
        "resta=x+(-y)\n",
        "print(f\"La resta de las matrices es {resta}\")"
      ],
      "metadata": {
        "colab": {
          "base_uri": "https://localhost:8080/"
        },
        "id": "q0NtEXbMBKZ-",
        "outputId": "50957449-86fb-48fe-97ab-e517b0fb3302"
      },
      "execution_count": 36,
      "outputs": [
        {
          "output_type": "stream",
          "name": "stdout",
          "text": [
            "La resta de ambas listas es [-4 -1  4]\n"
          ]
        }
      ]
    },
    {
      "cell_type": "code",
      "source": [
        "import numpy as xp\n",
        "x=xp.array([10,6,1])\n",
        "y=xp.array([4,5,6])\n",
        "mult=x*y\n",
        "print(f\"La multiplicacion de las matrices es {mult}\")"
      ],
      "metadata": {
        "colab": {
          "base_uri": "https://localhost:8080/"
        },
        "id": "5QwA9D1nBcfV",
        "outputId": "75a09fd3-919b-4c91-dab1-e0af35c83ea3"
      },
      "execution_count": 37,
      "outputs": [
        {
          "output_type": "stream",
          "name": "stdout",
          "text": [
            "La multiplicacion de las matrices es [40 30  6]\n"
          ]
        }
      ]
    },
    {
      "cell_type": "code",
      "source": [
        "import numpy as xp\n",
        "x=xp.linspace(0,1,4)\n",
        "x"
      ],
      "metadata": {
        "colab": {
          "base_uri": "https://localhost:8080/"
        },
        "id": "eIdZiS1oFkT3",
        "outputId": "cfeec648-828d-47b1-b879-84b19a7dc56e"
      },
      "execution_count": 40,
      "outputs": [
        {
          "output_type": "execute_result",
          "data": {
            "text/plain": [
              "array([0.        , 0.33333333, 0.66666667, 1.        ])"
            ]
          },
          "metadata": {},
          "execution_count": 40
        }
      ]
    },
    {
      "cell_type": "code",
      "source": [
        "xp.random.randint(0,10,size=1)"
      ],
      "metadata": {
        "colab": {
          "base_uri": "https://localhost:8080/"
        },
        "id": "-TKrVENZHeVi",
        "outputId": "25ad7c76-9cf7-4a51-85cc-85b35a37747a"
      },
      "execution_count": 41,
      "outputs": [
        {
          "output_type": "execute_result",
          "data": {
            "text/plain": [
              "array([8])"
            ]
          },
          "metadata": {},
          "execution_count": 41
        }
      ]
    },
    {
      "cell_type": "code",
      "source": [
        "#Pedir al usuario un numero del 1 al 10 y adivinarlo\n",
        ""
      ],
      "metadata": {
        "id": "sgMJB4k1H6_0"
      },
      "execution_count": null,
      "outputs": []
    }
  ]
}