{
  "nbformat": 4,
  "nbformat_minor": 0,
  "metadata": {
    "colab": {
      "provenance": [],
      "authorship_tag": "ABX9TyNLd6foPCKADsNR+0QtOvAf",
      "include_colab_link": true
    },
    "kernelspec": {
      "name": "python3",
      "display_name": "Python 3"
    },
    "language_info": {
      "name": "python"
    }
  },
  "cells": [
    {
      "cell_type": "markdown",
      "metadata": {
        "id": "view-in-github",
        "colab_type": "text"
      },
      "source": [
        "<a href=\"https://colab.research.google.com/github/emilianot845/Templos_THC_Tareas/blob/main/TAREA5_THC_TEMPLOS.ipynb\" target=\"_parent\"><img src=\"https://colab.research.google.com/assets/colab-badge.svg\" alt=\"Open In Colab\"/></a>"
      ]
    },
    {
      "cell_type": "code",
      "execution_count": 3,
      "metadata": {
        "colab": {
          "base_uri": "https://localhost:8080/"
        },
        "id": "wBdY5NHdfUrG",
        "outputId": "72e74c1f-e229-41d0-9669-b8d779197c36"
      },
      "outputs": [
        {
          "output_type": "stream",
          "name": "stdout",
          "text": [
            "El máximo de la lista es: 78\n",
            "El mínimo de la lista es: 1\n"
          ]
        }
      ],
      "source": [
        "\"\"\"\n",
        " Tarea # 5: EJERCICIOS 1,2 Y 3\n",
        " Templos Valdez Juan Emiliano \"\"\"\n",
        "#EJERCICIO 2; para obtener maximos y minimos de una lista\n",
        "lista = [22,15,1,3,78,42]\n",
        "maximo = max(lista)\n",
        "minimo = min(lista)\n",
        "\n",
        "print(f\"El máximo de la lista es: {maximo}\")\n",
        "print(f\"El mínimo de la lista es: {minimo}\")"
      ]
    },
    {
      "cell_type": "code",
      "source": [
        "#EJERCICIO 1\n",
        "Lista = [17,22,3,15,10]\n",
        "for i in range(5):\n",
        "    x = float(input(f\"Ingrese el número {i + 1}: \"))\n",
        "    Lista.append(x)\n",
        "suma = sum(Lista)\n",
        "promedio = suma / len(Lista)\n",
        "print(f\"El promedio de la lista final es: {promedio}\")"
      ],
      "metadata": {
        "colab": {
          "base_uri": "https://localhost:8080/"
        },
        "id": "Iyp2ZgcwhIo8",
        "outputId": "31858273-a820-45e5-9dcb-b6a7cb640d5b"
      },
      "execution_count": 4,
      "outputs": [
        {
          "output_type": "stream",
          "name": "stdout",
          "text": [
            "Ingrese el número 1:  8\n",
            "Ingrese el número 2:   22\n",
            "Ingrese el número 3:   12\n",
            "Ingrese el número 4:   30 \n",
            "Ingrese el número 5:   18\n",
            "El promedio de la lista final es: 15.7\n"
          ]
        }
      ]
    },
    {
      "cell_type": "code",
      "source": [
        "#EJERCICIO 3\n",
        "numeros = [8,44,12,11,18,22,20,13,17]\n",
        "numeros_pares = []\n",
        "numeros_impares = []\n",
        "\n",
        "for numero in numeros:\n",
        "    if numero % 2 == 0:\n",
        "        numeros_pares.append(numero)\n",
        "    else:\n",
        "        numeros_impares.append(numero)\n",
        "\n",
        "\n",
        "print(\"Números pares:\", numeros_pares)\n",
        "print(\"Números impares:\", numeros_impares)\n",
        "\n",
        "\n",
        "\n",
        "\n",
        "\n",
        "\n"
      ],
      "metadata": {
        "colab": {
          "base_uri": "https://localhost:8080/"
        },
        "id": "rHepDrK-kRWJ",
        "outputId": "4c128f69-660a-44bc-ac85-b1020d2da28d"
      },
      "execution_count": 5,
      "outputs": [
        {
          "output_type": "stream",
          "name": "stdout",
          "text": [
            "Números pares: [8, 44, 12, 18, 22, 20]\n",
            "Números impares: [11, 13, 17]\n"
          ]
        }
      ]
    }
  ]
}