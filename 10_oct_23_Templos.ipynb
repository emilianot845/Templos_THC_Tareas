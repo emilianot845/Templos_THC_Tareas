{
  "nbformat": 4,
  "nbformat_minor": 0,
  "metadata": {
    "colab": {
      "provenance": [],
      "authorship_tag": "ABX9TyOpLHbp1hDnDvcJSWA215Vt",
      "include_colab_link": true
    },
    "kernelspec": {
      "name": "python3",
      "display_name": "Python 3"
    },
    "language_info": {
      "name": "python"
    }
  },
  "cells": [
    {
      "cell_type": "markdown",
      "metadata": {
        "id": "view-in-github",
        "colab_type": "text"
      },
      "source": [
        "<a href=\"https://colab.research.google.com/github/emilianot845/Templos_THC_Tareas/blob/main/10_oct_23_Templos.ipynb\" target=\"_parent\"><img src=\"https://colab.research.google.com/assets/colab-badge.svg\" alt=\"Open In Colab\"/></a>"
      ]
    },
    {
      "cell_type": "code",
      "execution_count": 3,
      "metadata": {
        "colab": {
          "base_uri": "https://localhost:8080/"
        },
        "id": "k4k0fw46wACh",
        "outputId": "3348bfcc-cf39-4b76-9cdf-e534350e948c"
      },
      "outputs": [
        {
          "output_type": "stream",
          "name": "stdout",
          "text": [
            "{'name': 'Jalen Hurts', 'position': 'quarterback', 'rookie year': 2019, 'franchise': 'Philadelphia Eagles'}\n"
          ]
        }
      ],
      "source": [
        "dict1={\n",
        "    \"name\": \"Jalen Hurts\",\n",
        "    \"position\": \"quarterback\",\n",
        "     \"rookie year\": 2019,\n",
        "     \"franchise\": \"Philadelphia Eagles\"\n",
        "}\n",
        "print(dict1)"
      ]
    },
    {
      "cell_type": "code",
      "source": [
        "diccionario={\"python\":13.2, \"zope\":2.1, \"plone\":6.2}\n",
        "l=[]\n",
        "for i in diccionario.keys():\n",
        "   l.append(diccionario[i])\n",
        "print(i)\n",
        "print(l)"
      ],
      "metadata": {
        "colab": {
          "base_uri": "https://localhost:8080/"
        },
        "id": "_w903tR_xCuJ",
        "outputId": "fab6e4f5-81d7-4e0e-8b71-7b3ec41d3cfc"
      },
      "execution_count": 10,
      "outputs": [
        {
          "output_type": "stream",
          "name": "stdout",
          "text": [
            "plone\n",
            "[13.2, 2.1, 6.2]\n"
          ]
        }
      ]
    },
    {
      "cell_type": "code",
      "source": [
        "import pandas as lp\n",
        "# Crear un diccionario con base de datos\n",
        "datos={\n",
        "    \"Nombre\":[\"Gus\",\"HHH\",\"Joss\",\"Emimosh\"],\n",
        "    \"Edad\":[19,18,22,20],\n",
        "    \"Localidad\":[\"USA\",\"EdoMex\",\"Cuernavaca\",\"Cdmx\"]\n",
        "}\n",
        "dataframe=lp.DataFrame(datos)\n",
        "print(dataframe)"
      ],
      "metadata": {
        "colab": {
          "base_uri": "https://localhost:8080/"
        },
        "id": "E-UMFH8Cx-Mp",
        "outputId": "5d873ce1-8eaa-462a-dd18-76504c78f92f"
      },
      "execution_count": 12,
      "outputs": [
        {
          "output_type": "stream",
          "name": "stdout",
          "text": [
            "    Nombre  Edad   Localidad\n",
            "0      Gus    19         USA\n",
            "1      HHH    18      EdoMex\n",
            "2     Joss    22  Cuernavaca\n",
            "3  Emimosh    20        Cdmx\n"
          ]
        }
      ]
    },
    {
      "cell_type": "code",
      "source": [
        "def function1():\n",
        "  print(\"Monday Night Football\")\n",
        "function1()"
      ],
      "metadata": {
        "colab": {
          "base_uri": "https://localhost:8080/"
        },
        "id": "jNS2pW3V0veq",
        "outputId": "6f944aef-5cfa-4e72-8e41-c8d3a6eba918"
      },
      "execution_count": 27,
      "outputs": [
        {
          "output_type": "stream",
          "name": "stdout",
          "text": [
            "Monday Night Football\n"
          ]
        }
      ]
    },
    {
      "cell_type": "code",
      "source": [
        "def function_SB(fname):\n",
        "  print(\"El\"+fname+\" sera en Las Vegas\")\n",
        "function_SB(\" siguiente Super Bowl\")"
      ],
      "metadata": {
        "colab": {
          "base_uri": "https://localhost:8080/"
        },
        "id": "LoGUsPOw3OeL",
        "outputId": "cbd93ac9-4838-47e4-a9c7-b43cc2908d14"
      },
      "execution_count": 30,
      "outputs": [
        {
          "output_type": "stream",
          "name": "stdout",
          "text": [
            "El siguiente Super Bowl sera en Las Vegas\n"
          ]
        }
      ]
    },
    {
      "cell_type": "code",
      "source": [
        "def SB_2023(fname,lname):\n",
        "  print(\"El\"+fname+\" sera en Las Vegas y jugara \"+lname)\n",
        "SB_2023(\" siguiente Super Bowl\",\" Philadelphia\")"
      ],
      "metadata": {
        "colab": {
          "base_uri": "https://localhost:8080/"
        },
        "id": "hb4AsFd84KFb",
        "outputId": "a9b7f7d8-987e-4c05-ea5d-c494be592bc0"
      },
      "execution_count": 31,
      "outputs": [
        {
          "output_type": "stream",
          "name": "stdout",
          "text": [
            "El siguiente Super Bowl sera en Las Vegas y jugara  Philadelphia\n"
          ]
        }
      ]
    },
    {
      "cell_type": "code",
      "source": [
        "def mi_funcion(*kids):\n",
        "    print(\"El niño menor es \" + kids[2])\n",
        "\n",
        "mi_funcion(\"Emil\", \"Tobias\", \"Linus\",\"Juan\")"
      ],
      "metadata": {
        "colab": {
          "base_uri": "https://localhost:8080/"
        },
        "id": "fkw4aCVB4rQ6",
        "outputId": "0151792f-8986-49b1-ab0c-2545e3060aae"
      },
      "execution_count": 33,
      "outputs": [
        {
          "output_type": "stream",
          "name": "stdout",
          "text": [
            "El niño menor es Linus\n"
          ]
        }
      ]
    },
    {
      "cell_type": "code",
      "source": [
        "def contendientes(c1,c2,c3,c4):\n",
        "    print(\"El equipo con mas intercepciones es \" + c4)\n",
        "\n",
        "contendientes(c1= \"Philadelphia\", c2 = \"San Francisco\", c3 = \"Kansas City\", c4=\"Dallas\")"
      ],
      "metadata": {
        "colab": {
          "base_uri": "https://localhost:8080/"
        },
        "id": "f1Qu6pig53D0",
        "outputId": "29018f3b-edc9-49b2-8f5b-2a183beabae8"
      },
      "execution_count": 34,
      "outputs": [
        {
          "output_type": "stream",
          "name": "stdout",
          "text": [
            "El equipo con mas intercepciones es Dallas\n"
          ]
        }
      ]
    },
    {
      "cell_type": "code",
      "source": [
        "def suma_vectores():\n",
        "    n_vectores = int(input(\"Cuantos vectores sumas: \"))\n",
        "    vectores = {}\n",
        "    for i in range(n_vectores):\n",
        "        vector_str = input(f\"Introduce el vector {i + 1} en formato 'x,y,z': \")\n",
        "        vector = [int(x) for x in vector_str.split(',')]\n",
        "        vectores[f'vector_{i + 1}'] = vector\n",
        "    resultado = [0, 0, 0]\n",
        "    for vector in vectores.values():\n",
        "        resultado[0] += vector[0]\n",
        "        resultado[1] += vector[1]\n",
        "        resultado[2] += vector[2]\n",
        "    print(f\"La suma de los vectores es: {resultado}\")\n",
        "suma_vectores()"
      ],
      "metadata": {
        "colab": {
          "base_uri": "https://localhost:8080/"
        },
        "id": "cSdMvjJP-tgD",
        "outputId": "506fdd12-0949-4b5b-fc20-0435e8d745b2"
      },
      "execution_count": 36,
      "outputs": [
        {
          "output_type": "stream",
          "name": "stdout",
          "text": [
            "Cuantos vectores sumas:   4\n",
            "Introduce el vector 1 en formato 'x,y,z':   20,15,3\n",
            "Introduce el vector 2 en formato 'x,y,z':   17,10,2\n",
            "Introduce el vector 3 en formato 'x,y,z': 15,3,4\n",
            "Introduce el vector 4 en formato 'x,y,z': 10,7,4\n",
            "La suma de los vectores es: [62, 35, 13]\n"
          ]
        }
      ]
    }
  ]
}